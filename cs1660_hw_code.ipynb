{
 "cells": [
  {
   "cell_type": "code",
   "execution_count": 12,
   "metadata": {
    "collapsed": true
   },
   "outputs": [
    {
     "name": "stdout",
     "output_type": "stream",
     "text": [
      "Collecting boto3\n",
      "  Using cached boto3-1.17.21-py2.py3-none-any.whl (130 kB)\n",
      "Collecting jmespath<1.0.0,>=0.7.1\n",
      "  Using cached jmespath-0.10.0-py2.py3-none-any.whl (24 kB)\n",
      "Collecting botocore<1.21.0,>=1.20.21\n",
      "  Using cached botocore-1.20.21-py2.py3-none-any.whl (7.3 MB)\n",
      "Collecting s3transfer<0.4.0,>=0.3.0\n",
      "  Using cached s3transfer-0.3.4-py2.py3-none-any.whl (69 kB)\n",
      "Requirement already satisfied: urllib3<1.27,>=1.25.4 in /anaconda3/lib/python3.6/site-packages (from botocore<1.21.0,>=1.20.21->boto3) (1.25.8)\n",
      "Requirement already satisfied: python-dateutil<3.0.0,>=2.1 in /anaconda3/lib/python3.6/site-packages (from botocore<1.21.0,>=1.20.21->boto3) (2.8.1)\n",
      "Requirement already satisfied: six>=1.5 in /anaconda3/lib/python3.6/site-packages (from python-dateutil<3.0.0,>=2.1->botocore<1.21.0,>=1.20.21->boto3) (1.14.0)\n",
      "Installing collected packages: jmespath, botocore, s3transfer, boto3\n",
      "Successfully installed boto3-1.17.21 botocore-1.20.21 jmespath-0.10.0 s3transfer-0.3.4\n",
      "Note: you may need to restart the kernel to use updated packages.\n"
     ]
    }
   ],
   "source": [
    "%pip install --user boto3"
   ]
  },
  {
   "cell_type": "code",
   "execution_count": 14,
   "metadata": {},
   "outputs": [],
   "source": [
    "import boto3"
   ]
  },
  {
   "cell_type": "code",
   "execution_count": 17,
   "metadata": {},
   "outputs": [],
   "source": [
    "s3 = boto3.resource('s3',\n",
    "                   aws_access_key_id='',\n",
    "                   aws_secret_access_key='')"
   ]
  },
  {
   "cell_type": "code",
   "execution_count": 19,
   "metadata": {},
   "outputs": [
    {
     "name": "stdout",
     "output_type": "stream",
     "text": [
      "This may already exist\n"
     ]
    }
   ],
   "source": [
    "try:\n",
    "    s3.create_bucket(Bucket='datacont-grey', CreateBucketConfiguration={'LocationConstraint':'us-east-2'})\n",
    "except:\n",
    "    print(\"This may already exist\")"
   ]
  },
  {
   "cell_type": "code",
   "execution_count": 20,
   "metadata": {},
   "outputs": [],
   "source": [
    "bucket = s3.Bucket(\"datacont-grey\")"
   ]
  },
  {
   "cell_type": "code",
   "execution_count": 21,
   "metadata": {
    "collapsed": true
   },
   "outputs": [
    {
     "data": {
      "text/plain": [
       "{'ResponseMetadata': {'RequestId': 'Q3ETCVD94SPPYNWR',\n",
       "  'HostId': 'Cx7UrMIuJFCwmRv5HCGTj1ENRkI9y9wwTfAvPbqxLrHAaUAAFdPfnPNOwamzlN4UHdnEYvnjND0=',\n",
       "  'HTTPStatusCode': 200,\n",
       "  'HTTPHeaders': {'x-amz-id-2': 'Cx7UrMIuJFCwmRv5HCGTj1ENRkI9y9wwTfAvPbqxLrHAaUAAFdPfnPNOwamzlN4UHdnEYvnjND0=',\n",
       "   'x-amz-request-id': 'Q3ETCVD94SPPYNWR',\n",
       "   'date': 'Thu, 04 Mar 2021 23:18:59 GMT',\n",
       "   'content-length': '0',\n",
       "   'server': 'AmazonS3'},\n",
       "  'RetryAttempts': 0}}"
      ]
     },
     "execution_count": 21,
     "metadata": {},
     "output_type": "execute_result"
    }
   ],
   "source": [
    "bucket.Acl().put(ACL='public-read')"
   ]
  },
  {
   "cell_type": "code",
   "execution_count": 22,
   "metadata": {},
   "outputs": [],
   "source": [
    "body = open('./exp1.csv', 'rb')"
   ]
  },
  {
   "cell_type": "code",
   "execution_count": 23,
   "metadata": {},
   "outputs": [],
   "source": [
    "o = s3.Object('datacont-grey', 'exp1').put(Body=body)"
   ]
  },
  {
   "cell_type": "code",
   "execution_count": 34,
   "metadata": {
    "collapsed": true
   },
   "outputs": [
    {
     "data": {
      "text/plain": [
       "{'ResponseMetadata': {'RequestId': 'B51HG3NCK1535D4W',\n",
       "  'HostId': 'MmD52MGqE9DnPQKT2mvIYbZSqjR/8l51u2Wzf6C4UTagMJ0IpLu7BBlCoxDqU/3C46ZM1CaGNdE=',\n",
       "  'HTTPStatusCode': 200,\n",
       "  'HTTPHeaders': {'x-amz-id-2': 'MmD52MGqE9DnPQKT2mvIYbZSqjR/8l51u2Wzf6C4UTagMJ0IpLu7BBlCoxDqU/3C46ZM1CaGNdE=',\n",
       "   'x-amz-request-id': 'B51HG3NCK1535D4W',\n",
       "   'date': 'Thu, 04 Mar 2021 23:45:05 GMT',\n",
       "   'content-length': '0',\n",
       "   'server': 'AmazonS3'},\n",
       "  'RetryAttempts': 0}}"
      ]
     },
     "execution_count": 34,
     "metadata": {},
     "output_type": "execute_result"
    }
   ],
   "source": [
    "s3.Object('datacont-grey', 'exp1').Acl().put(ACL='public-read')"
   ]
  },
  {
   "cell_type": "code",
   "execution_count": 27,
   "metadata": {},
   "outputs": [],
   "source": [
    "dyndb = boto3.resource('dynamodb', region_name='us-east-2',\n",
    "                     aws_access_key_id='',\n",
    "                     aws_secret_access_key='')"
   ]
  },
  {
   "cell_type": "code",
   "execution_count": 29,
   "metadata": {},
   "outputs": [],
   "source": [
    "table = dyndb.create_table(\n",
    "    TableName='DataTable',\n",
    "    KeySchema=[\n",
    "        {'AttributeName': 'PartitionKey', 'KeyType': 'HASH'},\n",
    "        {'AttributeName': 'RowKey', 'KeyType': 'RANGE'}\n",
    "    ],\n",
    "    AttributeDefinitions=[\n",
    "        {'AttributeName': 'PartitionKey', 'AttributeType': 'S'},\n",
    "        {'AttributeName': 'RowKey',       'AttributeType': 'S'}\n",
    "    ],\n",
    "    ProvisionedThroughput={\n",
    "        'ReadCapacityUnits': 5,\n",
    "        'WriteCapacityUnits': 5\n",
    "    }\n",
    ")"
   ]
  },
  {
   "cell_type": "code",
   "execution_count": 31,
   "metadata": {},
   "outputs": [],
   "source": [
    "table.meta.client.get_waiter('table_exists').wait(TableName='DataTable')"
   ]
  },
  {
   "cell_type": "code",
   "execution_count": 32,
   "metadata": {},
   "outputs": [
    {
     "name": "stdout",
     "output_type": "stream",
     "text": [
      "0\n"
     ]
    }
   ],
   "source": [
    "print(table.item_count)"
   ]
  },
  {
   "cell_type": "code",
   "execution_count": 33,
   "metadata": {},
   "outputs": [],
   "source": [
    "import csv"
   ]
  },
  {
   "cell_type": "code",
   "execution_count": 35,
   "metadata": {},
   "outputs": [],
   "source": [
    "body = open('test.jpg', 'rb')"
   ]
  },
  {
   "cell_type": "code",
   "execution_count": 44,
   "metadata": {},
   "outputs": [],
   "source": [
    "urlbase = 'https://s3-us-east-2.amazonaws.com/datacont-grey'\n",
    "with open('experiments2.csv') as csvfile:\n",
    "    csvf = csv.reader(csvfile, delimiter=',', quotechar='|')\n",
    "    for i,item in enumerate(csvf):\n",
    "        if i > 0:\n",
    "            body = open('./'+item[4], 'rb')\n",
    "            s3.Object('datacont-grey', item[4]).put(Body=body)\n",
    "            md = s3.Object('datacont-grey', item[4]).Acl().put(ACL='public-read')\n",
    "            url = urlbase + item[3]\n",
    "            metadata_item={'PartitionKey': item[0], 'RowKey': item[1], 'description': item[3], 'date': item[2], 'url':url}\n",
    "            table.put_item(Item=metadata_item)"
   ]
  },
  {
   "cell_type": "code",
   "execution_count": null,
   "metadata": {},
   "outputs": [],
   "source": []
  }
 ],
 "metadata": {
  "kernelspec": {
   "display_name": "Python 3",
   "language": "python",
   "name": "python3"
  },
  "language_info": {
   "codemirror_mode": {
    "name": "ipython",
    "version": 3
   },
   "file_extension": ".py",
   "mimetype": "text/x-python",
   "name": "python",
   "nbconvert_exporter": "python",
   "pygments_lexer": "ipython3",
   "version": "3.6.8"
  }
 },
 "nbformat": 4,
 "nbformat_minor": 4
}
